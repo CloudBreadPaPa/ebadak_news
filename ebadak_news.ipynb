{
 "metadata": {
  "language_info": {
   "codemirror_mode": {
    "name": "ipython",
    "version": 3
   },
   "file_extension": ".py",
   "mimetype": "text/x-python",
   "name": "python",
   "nbconvert_exporter": "python",
   "pygments_lexer": "ipython3",
   "version": "3.6.8-final"
  },
  "orig_nbformat": 2,
  "kernelspec": {
   "name": "python3",
   "display_name": "Python 3",
   "language": "python"
  }
 },
 "nbformat": 4,
 "nbformat_minor": 2,
 "cells": [
  {
   "cell_type": "code",
   "execution_count": null,
   "metadata": {},
   "outputs": [],
   "source": [
    "# 워드 파일에 뉴스 내용을 복사\n",
    "# 파일을 html.htm 으로 저장\n",
    "# safelink를 제거하기 위해 아래 수행\n",
    "# 생성된 result 파일 열고 복붙\n",
    "\n",
    "from urllib.parse import unquote\n",
    "\n",
    "filename = 'html.htm'\n",
    "res_name = 'result.htm'\n",
    "pattern = 'nam06.safelinks.protection.outlook.com'\n",
    "matching_lines = []\n",
    "\n",
    "def replace_str(line):\n",
    "    left_str = line.split(\"?url=\",1)[1]\n",
    "    right_str = left_str.split(\"&amp;data=\",1)[0]\n",
    "    url = unquote(right_str)\n",
    "    print(url)\n",
    "    return url\n"
   ]
  },
  {
   "cell_type": "code",
   "execution_count": null,
   "metadata": {},
   "outputs": [],
   "source": [
    "lst = []\n",
    "for line in open(filename).readlines():\n",
    "    if pattern in line:\n",
    "        lst.append(line)"
   ]
  },
  {
   "cell_type": "code",
   "execution_count": null,
   "metadata": {},
   "outputs": [],
   "source": [
    "lst"
   ]
  },
  {
   "cell_type": "code",
   "execution_count": null,
   "metadata": {},
   "outputs": [],
   "source": [
    "\n",
    "text_file = open(filename, \"r\")\n",
    "fin = text_file.read()\n",
    "fin"
   ]
  },
  {
   "cell_type": "code",
   "execution_count": null,
   "metadata": {},
   "outputs": [],
   "source": [
    "fileout = open(res_name, \"wt\")\n",
    "for line in lst:\n",
    "    left_str = line.split(\"?url=\",1)[1]\n",
    "    right_str = left_str.split(\"&amp;data=\",1)[0]\n",
    "    url = unquote(right_str)\n",
    "    fin = fin.replace(line, 'href=\"' + url + '\"')\n",
    "\n",
    "fileout.write(fin)\n",
    "fileout.close()\n"
   ]
  },
  {
   "cell_type": "code",
   "execution_count": null,
   "metadata": {},
   "outputs": [],
   "source": []
  }
 ]
}